{
  "nbformat": 4,
  "nbformat_minor": 0,
  "metadata": {
    "colab": {
      "provenance": [],
      "gpuType": "V100",
      "include_colab_link": true
    },
    "kernelspec": {
      "name": "python3",
      "display_name": "Python 3"
    },
    "language_info": {
      "name": "python"
    },
    "accelerator": "GPU"
  },
  "cells": [
    {
      "cell_type": "markdown",
      "metadata": {
        "id": "view-in-github",
        "colab_type": "text"
      },
      "source": [
        "<a href=\"https://colab.research.google.com/github/comandi1969/AIFFEL_Online_Quest/blob/main/Exploration07/fashion_mnist_keras_tuner.ipynb\" target=\"_parent\"><img src=\"https://colab.research.google.com/assets/colab-badge.svg\" alt=\"Open In Colab\"/></a>"
      ]
    },
    {
      "cell_type": "code",
      "source": [
        "# Keras Tuner 라이브러리를 설치\n",
        "!pip install keras-tuner"
      ],
      "metadata": {
        "colab": {
          "base_uri": "https://localhost:8080/"
        },
        "id": "mYnOHVf8dfro",
        "outputId": "0547571a-8ebe-4401-c41e-7ec2f118eb99"
      },
      "execution_count": 1,
      "outputs": [
        {
          "output_type": "stream",
          "name": "stdout",
          "text": [
            "Collecting keras-tuner\n",
            "  Downloading keras_tuner-1.4.2-py3-none-any.whl (127 kB)\n",
            "\u001b[2K     \u001b[90m━━━━━━━━━━━━━━━━━━━━━━━━━━━━━━━━━━━━━━━\u001b[0m \u001b[32m127.5/127.5 kB\u001b[0m \u001b[31m3.5 MB/s\u001b[0m eta \u001b[36m0:00:00\u001b[0m\n",
            "\u001b[?25hCollecting keras-core (from keras-tuner)\n",
            "  Downloading keras_core-0.1.7-py3-none-any.whl (950 kB)\n",
            "\u001b[2K     \u001b[90m━━━━━━━━━━━━━━━━━━━━━━━━━━━━━━━━━━━━━━\u001b[0m \u001b[32m950.8/950.8 kB\u001b[0m \u001b[31m11.1 MB/s\u001b[0m eta \u001b[36m0:00:00\u001b[0m\n",
            "\u001b[?25hRequirement already satisfied: packaging in /usr/local/lib/python3.10/dist-packages (from keras-tuner) (23.1)\n",
            "Requirement already satisfied: requests in /usr/local/lib/python3.10/dist-packages (from keras-tuner) (2.31.0)\n",
            "Collecting kt-legacy (from keras-tuner)\n",
            "  Downloading kt_legacy-1.0.5-py3-none-any.whl (9.6 kB)\n",
            "Requirement already satisfied: absl-py in /usr/local/lib/python3.10/dist-packages (from keras-core->keras-tuner) (1.4.0)\n",
            "Requirement already satisfied: numpy in /usr/local/lib/python3.10/dist-packages (from keras-core->keras-tuner) (1.23.5)\n",
            "Requirement already satisfied: rich in /usr/local/lib/python3.10/dist-packages (from keras-core->keras-tuner) (13.5.2)\n",
            "Collecting namex (from keras-core->keras-tuner)\n",
            "  Downloading namex-0.0.7-py3-none-any.whl (5.8 kB)\n",
            "Requirement already satisfied: h5py in /usr/local/lib/python3.10/dist-packages (from keras-core->keras-tuner) (3.9.0)\n",
            "Requirement already satisfied: dm-tree in /usr/local/lib/python3.10/dist-packages (from keras-core->keras-tuner) (0.1.8)\n",
            "Requirement already satisfied: charset-normalizer<4,>=2 in /usr/local/lib/python3.10/dist-packages (from requests->keras-tuner) (3.2.0)\n",
            "Requirement already satisfied: idna<4,>=2.5 in /usr/local/lib/python3.10/dist-packages (from requests->keras-tuner) (3.4)\n",
            "Requirement already satisfied: urllib3<3,>=1.21.1 in /usr/local/lib/python3.10/dist-packages (from requests->keras-tuner) (2.0.4)\n",
            "Requirement already satisfied: certifi>=2017.4.17 in /usr/local/lib/python3.10/dist-packages (from requests->keras-tuner) (2023.7.22)\n",
            "Requirement already satisfied: markdown-it-py>=2.2.0 in /usr/local/lib/python3.10/dist-packages (from rich->keras-core->keras-tuner) (3.0.0)\n",
            "Requirement already satisfied: pygments<3.0.0,>=2.13.0 in /usr/local/lib/python3.10/dist-packages (from rich->keras-core->keras-tuner) (2.16.1)\n",
            "Requirement already satisfied: mdurl~=0.1 in /usr/local/lib/python3.10/dist-packages (from markdown-it-py>=2.2.0->rich->keras-core->keras-tuner) (0.1.2)\n",
            "Installing collected packages: namex, kt-legacy, keras-core, keras-tuner\n",
            "Successfully installed keras-core-0.1.7 keras-tuner-1.4.2 kt-legacy-1.0.5 namex-0.0.7\n"
          ]
        }
      ]
    },
    {
      "cell_type": "code",
      "execution_count": 2,
      "metadata": {
        "colab": {
          "base_uri": "https://localhost:8080/"
        },
        "id": "VXhcKA7gkeI0",
        "outputId": "77ba5586-2e34-480e-d477-4aa07963fea7"
      },
      "outputs": [
        {
          "output_type": "stream",
          "name": "stdout",
          "text": [
            "Downloading data from https://storage.googleapis.com/tensorflow/tf-keras-datasets/train-labels-idx1-ubyte.gz\n",
            "29515/29515 [==============================] - 0s 0us/step\n",
            "Downloading data from https://storage.googleapis.com/tensorflow/tf-keras-datasets/train-images-idx3-ubyte.gz\n",
            "26421880/26421880 [==============================] - 1s 0us/step\n",
            "Downloading data from https://storage.googleapis.com/tensorflow/tf-keras-datasets/t10k-labels-idx1-ubyte.gz\n",
            "5148/5148 [==============================] - 0s 0us/step\n",
            "Downloading data from https://storage.googleapis.com/tensorflow/tf-keras-datasets/t10k-images-idx3-ubyte.gz\n",
            "4422102/4422102 [==============================] - 1s 0us/step\n",
            "전체 학습 데이터: (60000, 28, 28) 레이블: (60000,)\n",
            "학습 데이터: (42000, 28, 28) 레이블: (42000,)\n",
            "검증 데이터: (18000, 28, 28) 레이블: (18000,)\n",
            "테스트 데이터: (10000, 28, 28) 레이블: (10000,)\n"
          ]
        }
      ],
      "source": [
        "# TensorFlow와 scikit-learn 라이브러리를 이용해 Fashion MNIST 데이터셋을 불러오고\n",
        "# 이를 학습, 검증, 테스트 데이터로 나누는 과정\n",
        "from tensorflow.keras.datasets import fashion_mnist\n",
        "from sklearn.model_selection import train_test_split\n",
        "\n",
        "(x_train_full, y_train_full), (x_test, y_test) = fashion_mnist.load_data()\n",
        "\n",
        "x_train, x_val, y_train, y_val = train_test_split(x_train_full, y_train_full,\n",
        "                                                  test_size=0.3,\n",
        "                                                  random_state=123)\n",
        "\n",
        "print(f\"전체 학습 데이터: {x_train_full.shape} 레이블: {y_train_full.shape}\")\n",
        "print(f\"학습 데이터: {x_train.shape} 레이블: {y_train.shape}\")\n",
        "print(f\"검증 데이터: {x_val.shape} 레이블: {y_val.shape}\")\n",
        "print(f\"테스트 데이터: {x_test.shape} 레이블: {y_test.shape}\")"
      ]
    },
    {
      "cell_type": "code",
      "source": [
        "# TensorFlow, Keras, 그리고 Keras Tuner 라이브러리를 임포트\n",
        "import tensorflow as tf\n",
        "import keras\n",
        "import keras_tuner as kt\n",
        "import os\n",
        "\n",
        "# CNN을 사용할 예정이라 차원 수를 하나 더 추가해줍니다.\n",
        "# label을 categorical을 활용해 변환합니다.​\n",
        "x_train = x_train.reshape(-1, 28, 28, 1)\n",
        "x_val = x_val.reshape(-1, 28, 28, 1)\n",
        "x_test = x_test.reshape(-1, 28, 28, 1)\n",
        "\n",
        "y_train = tf.keras.utils.to_categorical(y_train)\n",
        "y_val = tf.keras.utils.to_categorical(y_val)\n",
        "y_test = tf.keras.utils.to_categorical(y_test)\n",
        "\n",
        "print(x_train.shape)\n",
        "print(x_val.shape)\n",
        "print(x_test.shape)\n",
        "\n",
        "y_train[0]"
      ],
      "metadata": {
        "colab": {
          "base_uri": "https://localhost:8080/"
        },
        "id": "zKliga-Dk1Hx",
        "outputId": "6e8455fb-a10f-462e-eb07-25dd74b73e75"
      },
      "execution_count": 3,
      "outputs": [
        {
          "output_type": "stream",
          "name": "stdout",
          "text": [
            "Using TensorFlow backend\n",
            "(42000, 28, 28, 1)\n",
            "(18000, 28, 28, 1)\n",
            "(10000, 28, 28, 1)\n"
          ]
        },
        {
          "output_type": "execute_result",
          "data": {
            "text/plain": [
              "array([0., 0., 0., 0., 0., 0., 1., 0., 0., 0.], dtype=float32)"
            ]
          },
          "metadata": {},
          "execution_count": 3
        }
      ]
    },
    {
      "cell_type": "code",
      "source": [
        "x_train = x_train / 255. # 정규화\n",
        "x_val = x_val / 255.\n",
        "x_test = x_test / 255."
      ],
      "metadata": {
        "id": "L5E9hoe8k5af"
      },
      "execution_count": 4,
      "outputs": []
    },
    {
      "cell_type": "code",
      "source": [
        "# Keras Tuner 라이브러리를 활용하여 하이퍼파라미터 튜닝을 수행하는 사용자 정의 클래스 DeepTuner를 정의\n",
        "class DeepTuner(kt.Tuner):\n",
        "   def run_trial(self, trial, X, y, validation_data, **fit_kwargs):\n",
        "       model = self.hypermodel.build(trial.hyperparameters)\n",
        "       model.fit(X, y, batch_size=trial.hyperparameters.Choice(\n",
        "           'batch_size', [16, 32]), **fit_kwargs) # batch_size는 하이퍼파라미터로서 16 또는 32 중에서 선택\n",
        "       x_val, y_val = validation_data\n",
        "       eval_scores = model.evaluate(x_val, y_val)\n",
        "       return {name: value for name, value in zip(\n",
        "           model.metrics_names,\n",
        "           eval_scores)}"
      ],
      "metadata": {
        "id": "DR2U3PjCcdS4"
      },
      "execution_count": 5,
      "outputs": []
    },
    {
      "cell_type": "code",
      "source": [
        "def build_model(hp):\n",
        "   model = tf.keras.Sequential()\n",
        "   model.add(tf.keras.Input(shape = x_train.shape[1:], name = 'inputs'))\n",
        "   for i in range(hp.Int('num_layers', min_value=1, max_value=10)): # 1개에서 10개까지의 Conv2D 레이어를 추가\n",
        "             model.add(tf.keras.layers.Conv2D(hp.Int(\n",
        "                 'units_{i}'.format(i=i), min_value=32, max_value=128, step=5), (3,3),activation='relu')) # 필터수는 32부터 128까지 5의 간격으로 설정\n",
        "   model.add(tf.keras.layers.Flatten())\n",
        "   for i in range(hp.Int('n_connections', 1, 3)): # 1개에서 3개까지의 완전 연결 레이어(Dense layer)를 추가\n",
        "       model.add(tf.keras.layers.Dense(hp.Choice(f'n_nodes',\n",
        "                                 values=[32,64,128, 256]), activation = 'relu')) # 노드 수는 [32, 64, 128, 256] 중 하나로 설\n",
        "   model.add(tf.keras.layers.Dense(10, activation='softmax', name = 'outputs'))\n",
        "   model.compile(optimizer = 'adam',loss='categorical_crossentropy',\n",
        "       metrics=['accuracy'])\n",
        "   return model"
      ],
      "metadata": {
        "id": "BrNncb4_fmps"
      },
      "execution_count": 6,
      "outputs": []
    },
    {
      "cell_type": "code",
      "source": [
        "# Keras Tuner 라이브러리를 활용하여 하이퍼파라미터 튜닝을 수행하는 사용자 정의 클래스 DeepTuner를 정의\n",
        "my_keras_tuner = DeepTuner(\n",
        "   oracle=kt.oracles.BayesianOptimizationOracle(\n",
        "       objective=kt.Objective('accuracy', 'max'),\n",
        "       max_trials=10,  # 총 10번의 시도\n",
        "       seed=42),\n",
        "   hypermodel=build_model,\n",
        "   overwrite=True,\n",
        "   project_name='my_keras_tuner')\n",
        "\n",
        "# 해당 모델 학습시간은 약 10분정도 걸립니다!\n",
        "my_keras_tuner.search(\n",
        "   x_train, y_train, validation_data=(x_val, y_val), epochs=3)"
      ],
      "metadata": {
        "colab": {
          "base_uri": "https://localhost:8080/"
        },
        "id": "Wv7SvOwff26l",
        "outputId": "c595935b-b5d8-43d2-b458-3989df631fbf"
      },
      "execution_count": 7,
      "outputs": [
        {
          "output_type": "stream",
          "name": "stdout",
          "text": [
            "Trial 10 Complete [00h 00m 46s]\n",
            "accuracy: 0.8581110835075378\n",
            "\n",
            "Best accuracy So Far: 0.901888906955719\n",
            "Total elapsed time: 00h 08m 46s\n"
          ]
        }
      ]
    },
    {
      "cell_type": "code",
      "source": [
        "from google.colab import drive\n",
        "drive.mount('/content/drive')"
      ],
      "metadata": {
        "colab": {
          "base_uri": "https://localhost:8080/"
        },
        "id": "kJbdFUBef3CE",
        "outputId": "e9c308fc-49a2-475c-87d5-f77920f3bec3"
      },
      "execution_count": 8,
      "outputs": [
        {
          "output_type": "stream",
          "name": "stdout",
          "text": [
            "Mounted at /content/drive\n"
          ]
        }
      ]
    },
    {
      "cell_type": "code",
      "source": [
        "# Keras Tuner를 사용해 획득한 최적의 하이퍼파라미터를 사용하여 모델을 생성하고, 그 모델의 구조를 출력\n",
        "best_hps = my_keras_tuner.get_best_hyperparameters(num_trials=10)[0] # [0]은 가장 좋은 하이퍼파라미터 세트만을 선택\n",
        "model = build_model(best_hps)\n",
        "model.summary()"
      ],
      "metadata": {
        "colab": {
          "base_uri": "https://localhost:8080/"
        },
        "id": "x_NAEzvYgFBH",
        "outputId": "ed8fa138-41ac-4f54-8db8-ffc48bf2adfe"
      },
      "execution_count": 9,
      "outputs": [
        {
          "output_type": "stream",
          "name": "stdout",
          "text": [
            "Model: \"sequential_11\"\n",
            "_________________________________________________________________\n",
            " Layer (type)                Output Shape              Param #   \n",
            "=================================================================\n",
            " conv2d_65 (Conv2D)          (None, 26, 26, 67)        670       \n",
            "                                                                 \n",
            " conv2d_66 (Conv2D)          (None, 24, 24, 87)        52548     \n",
            "                                                                 \n",
            " flatten_11 (Flatten)        (None, 50112)             0         \n",
            "                                                                 \n",
            " dense_16 (Dense)            (None, 32)                1603616   \n",
            "                                                                 \n",
            " dense_17 (Dense)            (None, 32)                1056      \n",
            "                                                                 \n",
            " outputs (Dense)             (None, 10)                330       \n",
            "                                                                 \n",
            "=================================================================\n",
            "Total params: 1658220 (6.33 MB)\n",
            "Trainable params: 1658220 (6.33 MB)\n",
            "Non-trainable params: 0 (0.00 Byte)\n",
            "_________________________________________________________________\n"
          ]
        }
      ]
    },
    {
      "cell_type": "code",
      "source": [
        "# 모델 학습 과정\n",
        "history = model.fit(x_train, y_train, batch_size=32, epochs = 10, validation_data=(x_val, y_val))"
      ],
      "metadata": {
        "colab": {
          "base_uri": "https://localhost:8080/"
        },
        "id": "uZmYEBZcgFIa",
        "outputId": "be957343-5307-4c29-a9b5-c12d0ec9cecb"
      },
      "execution_count": 10,
      "outputs": [
        {
          "output_type": "stream",
          "name": "stdout",
          "text": [
            "Epoch 1/10\n",
            "1313/1313 [==============================] - 11s 6ms/step - loss: 0.4436 - accuracy: 0.8443 - val_loss: 0.3182 - val_accuracy: 0.8856\n",
            "Epoch 2/10\n",
            "1313/1313 [==============================] - 9s 7ms/step - loss: 0.2743 - accuracy: 0.8997 - val_loss: 0.2956 - val_accuracy: 0.8943\n",
            "Epoch 3/10\n",
            "1313/1313 [==============================] - 9s 6ms/step - loss: 0.2148 - accuracy: 0.9199 - val_loss: 0.2713 - val_accuracy: 0.9030\n",
            "Epoch 4/10\n",
            "1313/1313 [==============================] - 10s 7ms/step - loss: 0.1669 - accuracy: 0.9371 - val_loss: 0.2776 - val_accuracy: 0.9028\n",
            "Epoch 5/10\n",
            "1313/1313 [==============================] - 8s 6ms/step - loss: 0.1288 - accuracy: 0.9520 - val_loss: 0.3093 - val_accuracy: 0.9018\n",
            "Epoch 6/10\n",
            "1313/1313 [==============================] - 8s 6ms/step - loss: 0.0978 - accuracy: 0.9635 - val_loss: 0.3162 - val_accuracy: 0.9066\n",
            "Epoch 7/10\n",
            "1313/1313 [==============================] - 8s 6ms/step - loss: 0.0709 - accuracy: 0.9743 - val_loss: 0.3712 - val_accuracy: 0.9057\n",
            "Epoch 8/10\n",
            "1313/1313 [==============================] - 7s 5ms/step - loss: 0.0558 - accuracy: 0.9798 - val_loss: 0.3893 - val_accuracy: 0.9061\n",
            "Epoch 9/10\n",
            "1313/1313 [==============================] - 10s 7ms/step - loss: 0.0412 - accuracy: 0.9847 - val_loss: 0.5173 - val_accuracy: 0.9031\n",
            "Epoch 10/10\n",
            "1313/1313 [==============================] - 7s 6ms/step - loss: 0.0355 - accuracy: 0.9870 - val_loss: 0.5264 - val_accuracy: 0.9097\n"
          ]
        }
      ]
    },
    {
      "cell_type": "code",
      "source": [
        "# 모델 model을 테스트 데이터셋 x_test와 y_test에 대해 평가\n",
        "model.evaluate(x_test, y_test)"
      ],
      "metadata": {
        "colab": {
          "base_uri": "https://localhost:8080/"
        },
        "id": "rP5-NZVtf3I-",
        "outputId": "b64b4f67-db73-46d1-bb8b-2d80b00d5089"
      },
      "execution_count": 11,
      "outputs": [
        {
          "output_type": "stream",
          "name": "stdout",
          "text": [
            "313/313 [==============================] - 1s 3ms/step - loss: 0.5213 - accuracy: 0.9092\n"
          ]
        },
        {
          "output_type": "execute_result",
          "data": {
            "text/plain": [
              "[0.5213473439216614, 0.9092000126838684]"
            ]
          },
          "metadata": {},
          "execution_count": 11
        }
      ]
    },
    {
      "cell_type": "code",
      "source": [
        "# 학습된 딥러닝 모델을 파일로 저장\n",
        "path = '/content/drive/MyDrive/mlops/model'\n",
        "model.save(path)"
      ],
      "metadata": {
        "id": "ZhqWfX7HhRD3"
      },
      "execution_count": 12,
      "outputs": []
    },
    {
      "cell_type": "code",
      "source": [
        "# TensorFlow Lite(TFLite) 형식으로 Keras 모델을 변환하고, 변환된 모델의 서명(signature)을 출력\n",
        "converter = tf.lite.TFLiteConverter.from_keras_model(model)\n",
        "tflite_model = converter.convert()\n",
        "\n",
        "interpreter = tf.lite.Interpreter(model_content=tflite_model)\n",
        "\n",
        "signatures = interpreter.get_signature_list()\n",
        "print(signatures)"
      ],
      "metadata": {
        "colab": {
          "base_uri": "https://localhost:8080/"
        },
        "id": "EhqTyg2lhSJq",
        "outputId": "d12e2002-e0fd-4b37-f7fc-d7c79c0af903"
      },
      "execution_count": 13,
      "outputs": [
        {
          "output_type": "stream",
          "name": "stdout",
          "text": [
            "{'serving_default': {'inputs': ['inputs'], 'outputs': ['outputs']}}\n"
          ]
        }
      ]
    },
    {
      "cell_type": "code",
      "source": [
        "classify_lite = interpreter.get_signature_runner('serving_default')\n",
        "classify_lite"
      ],
      "metadata": {
        "colab": {
          "base_uri": "https://localhost:8080/"
        },
        "id": "vx0D0UFnjQ_-",
        "outputId": "6b693615-304a-4c6b-bce1-a60ce4767e09"
      },
      "execution_count": 28,
      "outputs": [
        {
          "output_type": "execute_result",
          "data": {
            "text/plain": [
              "<tensorflow.lite.python.interpreter.SignatureRunner at 0x78c928b62020>"
            ]
          },
          "metadata": {},
          "execution_count": 28
        }
      ]
    },
    {
      "cell_type": "code",
      "source": [
        "with open('/content/drive/MyDrive/mlops/model/model.tflite', 'wb') as f:\n",
        "  f.write(tflite_model)"
      ],
      "metadata": {
        "id": "kp9Bj1FWjRIe"
      },
      "execution_count": 14,
      "outputs": []
    },
    {
      "cell_type": "code",
      "source": [
        "def show_history(history):\n",
        "    history_dict = history.history\n",
        "\n",
        "    loss = history_dict['loss']\n",
        "    val_loss = history_dict['val_loss']\n",
        "\n",
        "    epochs = range(1, len(loss) + 1)\n",
        "    fig = plt.figure(figsize=(12, 5))\n",
        "\n",
        "    ax1 = fig.add_subplot(1, 2, 1)\n",
        "    ax1.plot(epochs, loss, 'b-', label='train_loss')\n",
        "    ax1.plot(epochs, val_loss, 'r-', label='val_loss')\n",
        "    ax1.set_title('Train and Validation Loss')\n",
        "    ax1.set_xlabel('Epochs')\n",
        "    ax1.set_ylabel('Loss')\n",
        "    ax1.grid()\n",
        "    ax1.legend()\n",
        "\n",
        "    accuracy = history_dict['accuracy']\n",
        "    val_accuracy = history_dict['val_accuracy']\n",
        "\n",
        "    ax2 = fig.add_subplot(1, 2, 2)\n",
        "    ax2.plot(epochs, accuracy, 'b-', label='train_accuracy')\n",
        "    ax2.plot(epochs, val_accuracy, 'r-', label='val_accuracy')\n",
        "    ax2.set_title('Train and Validation Accuracy')\n",
        "    ax2.set_xlabel('Epochs')\n",
        "    ax2.set_ylabel('Accuracy')\n",
        "    ax2.grid()\n",
        "    ax2.legend()\n",
        "\n",
        "    plt.show()"
      ],
      "metadata": {
        "id": "55po-B7ylIMK"
      },
      "execution_count": 15,
      "outputs": []
    },
    {
      "cell_type": "code",
      "source": [
        "import matplotlib.pyplot as plt\n",
        "import numpy as np\n",
        "show_history(history)"
      ],
      "metadata": {
        "colab": {
          "base_uri": "https://localhost:8080/",
          "height": 487
        },
        "id": "MAhIGxsJmtQy",
        "outputId": "9c2dd935-af32-42e1-a2cc-8e2b7a96a4ac"
      },
      "execution_count": 16,
      "outputs": [
        {
          "output_type": "display_data",
          "data": {
            "text/plain": [
              "<Figure size 1200x500 with 2 Axes>"
            ],
            "image/png": "[encoded data removed]"
          },
          "metadata": {}
        }
      ]
    },
    {
      "cell_type": "markdown",
      "source": [
        "# 회고\n",
        "TFX 개념도 낯설고 내용도 어렵고 구현은 더더욱 힘듭니다.\n",
        "대신 케라스 튜너는 아주 유형합니다. 기존에 모델 파인 튜닝 시 매번 하던 삽질을 더 이상 하지 않아도 될 듯합니다.\n",
        "탠서플로 서버는 구현에 실패했지만 다시 도전.\n",
        "참고로 지난번 패션 MNIST 파인 튜닝 결과가 정확도가 85%인데 이번엔 한방에 90%라 일단 이번 노드 만족합니다."
      ],
      "metadata": {
        "id": "98v6QMGf_Tpz"
      }
    }
  ]
}
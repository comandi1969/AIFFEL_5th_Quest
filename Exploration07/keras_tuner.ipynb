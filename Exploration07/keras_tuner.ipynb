{
  "cells": [
    {
      "cell_type": "markdown",
      "metadata": {
        "id": "view-in-github",
        "colab_type": "text"
      },
      "source": [
        "<a href=\"https://colab.research.google.com/github/comandi1969/AIFFEL_Online_Quest/blob/main/Exploration07/keras_tuner.ipynb\" target=\"_parent\"><img src=\"https://colab.research.google.com/assets/colab-badge.svg\" alt=\"Open In Colab\"/></a>"
      ]
    },
    {
      "cell_type": "code",
      "execution_count": 1,
      "id": "c3b99e37",
      "metadata": {
        "colab": {
          "base_uri": "https://localhost:8080/"
        },
        "id": "c3b99e37",
        "outputId": "8d9ed3e4-d9b8-45b1-ec78-5dc31b9385c7"
      },
      "outputs": [
        {
          "output_type": "stream",
          "name": "stdout",
          "text": [
            "Collecting keras-tuner\n",
            "  Downloading keras_tuner-1.4.2-py3-none-any.whl (127 kB)\n",
            "\u001b[2K     \u001b[90m━━━━━━━━━━━━━━━━━━━━━━━━━━━━━━━━━━━━━━━\u001b[0m \u001b[32m127.5/127.5 kB\u001b[0m \u001b[31m2.1 MB/s\u001b[0m eta \u001b[36m0:00:00\u001b[0m\n",
            "\u001b[?25hCollecting keras-core (from keras-tuner)\n",
            "  Downloading keras_core-0.1.7-py3-none-any.whl (950 kB)\n",
            "\u001b[2K     \u001b[90m━━━━━━━━━━━━━━━━━━━━━━━━━━━━━━━━━━━━━━\u001b[0m \u001b[32m950.8/950.8 kB\u001b[0m \u001b[31m12.6 MB/s\u001b[0m eta \u001b[36m0:00:00\u001b[0m\n",
            "\u001b[?25hRequirement already satisfied: packaging in /usr/local/lib/python3.10/dist-packages (from keras-tuner) (23.1)\n",
            "Requirement already satisfied: requests in /usr/local/lib/python3.10/dist-packages (from keras-tuner) (2.31.0)\n",
            "Collecting kt-legacy (from keras-tuner)\n",
            "  Downloading kt_legacy-1.0.5-py3-none-any.whl (9.6 kB)\n",
            "Requirement already satisfied: absl-py in /usr/local/lib/python3.10/dist-packages (from keras-core->keras-tuner) (1.4.0)\n",
            "Requirement already satisfied: numpy in /usr/local/lib/python3.10/dist-packages (from keras-core->keras-tuner) (1.23.5)\n",
            "Requirement already satisfied: rich in /usr/local/lib/python3.10/dist-packages (from keras-core->keras-tuner) (13.5.2)\n",
            "Collecting namex (from keras-core->keras-tuner)\n",
            "  Downloading namex-0.0.7-py3-none-any.whl (5.8 kB)\n",
            "Requirement already satisfied: h5py in /usr/local/lib/python3.10/dist-packages (from keras-core->keras-tuner) (3.9.0)\n",
            "Requirement already satisfied: dm-tree in /usr/local/lib/python3.10/dist-packages (from keras-core->keras-tuner) (0.1.8)\n",
            "Requirement already satisfied: charset-normalizer<4,>=2 in /usr/local/lib/python3.10/dist-packages (from requests->keras-tuner) (3.2.0)\n",
            "Requirement already satisfied: idna<4,>=2.5 in /usr/local/lib/python3.10/dist-packages (from requests->keras-tuner) (3.4)\n",
            "Requirement already satisfied: urllib3<3,>=1.21.1 in /usr/local/lib/python3.10/dist-packages (from requests->keras-tuner) (2.0.4)\n",
            "Requirement already satisfied: certifi>=2017.4.17 in /usr/local/lib/python3.10/dist-packages (from requests->keras-tuner) (2023.7.22)\n",
            "Requirement already satisfied: markdown-it-py>=2.2.0 in /usr/local/lib/python3.10/dist-packages (from rich->keras-core->keras-tuner) (3.0.0)\n",
            "Requirement already satisfied: pygments<3.0.0,>=2.13.0 in /usr/local/lib/python3.10/dist-packages (from rich->keras-core->keras-tuner) (2.16.1)\n",
            "Requirement already satisfied: mdurl~=0.1 in /usr/local/lib/python3.10/dist-packages (from markdown-it-py>=2.2.0->rich->keras-core->keras-tuner) (0.1.2)\n",
            "Installing collected packages: namex, kt-legacy, keras-core, keras-tuner\n",
            "Successfully installed keras-core-0.1.7 keras-tuner-1.4.2 kt-legacy-1.0.5 namex-0.0.7\n"
          ]
        }
      ],
      "source": [
        "!pip install keras-tuner"
      ]
    },
    {
      "cell_type": "code",
      "execution_count": 2,
      "id": "bd0ca5a9",
      "metadata": {
        "tags": [],
        "id": "bd0ca5a9",
        "colab": {
          "base_uri": "https://localhost:8080/"
        },
        "outputId": "d994944f-5d72-4ce1-e9b6-c2e164d29d1b"
      },
      "outputs": [
        {
          "output_type": "stream",
          "name": "stdout",
          "text": [
            "Using TensorFlow backend\n"
          ]
        }
      ],
      "source": [
        "import tensorflow as tf\n",
        "import keras\n",
        "import keras_tuner as kt\n",
        "from sklearn.model_selection import train_test_split\n",
        "import os"
      ]
    },
    {
      "cell_type": "code",
      "execution_count": 3,
      "id": "695993bb",
      "metadata": {
        "colab": {
          "base_uri": "https://localhost:8080/"
        },
        "id": "695993bb",
        "outputId": "13c55a87-ae35-4def-ff61-15f53272f788"
      },
      "outputs": [
        {
          "output_type": "stream",
          "name": "stdout",
          "text": [
            "2.13.1\n"
          ]
        }
      ],
      "source": [
        "print(keras.__version__)"
      ]
    },
    {
      "cell_type": "code",
      "execution_count": 4,
      "id": "65be1b6d",
      "metadata": {
        "tags": [],
        "colab": {
          "base_uri": "https://localhost:8080/"
        },
        "id": "65be1b6d",
        "outputId": "ca00beda-b547-41e9-f064-197e1e80b41e"
      },
      "outputs": [
        {
          "output_type": "stream",
          "name": "stdout",
          "text": [
            "Downloading data from https://storage.googleapis.com/tensorflow/tf-keras-datasets/mnist.npz\n",
            "11490434/11490434 [==============================] - 1s 0us/step\n"
          ]
        }
      ],
      "source": [
        "(x_train, y_train), (x_test, y_test) = keras.datasets.mnist.load_data()"
      ]
    },
    {
      "cell_type": "code",
      "execution_count": 5,
      "id": "d66ce65c",
      "metadata": {
        "tags": [],
        "id": "d66ce65c"
      },
      "outputs": [],
      "source": [
        "X_train = x_train.reshape(-1,28, 28, 1)  # reshaping for convnet\n",
        "X_test = x_test.reshape(-1,28,28,1)\n",
        "y_train = tf.keras.utils.to_categorical(y_train)\n",
        "y_test = tf.keras.utils.to_categorical(y_test)"
      ]
    },
    {
      "cell_type": "code",
      "execution_count": 6,
      "id": "e3f70464",
      "metadata": {
        "tags": [],
        "colab": {
          "base_uri": "https://localhost:8080/"
        },
        "id": "e3f70464",
        "outputId": "7244aa96-16d2-4564-8fae-e1273dbde421"
      },
      "outputs": [
        {
          "output_type": "stream",
          "name": "stdout",
          "text": [
            "(60000, 28, 28, 1)\n"
          ]
        }
      ],
      "source": [
        "print(X_train.shape)"
      ]
    },
    {
      "cell_type": "code",
      "execution_count": 7,
      "id": "5cfe1d21",
      "metadata": {
        "tags": [],
        "colab": {
          "base_uri": "https://localhost:8080/"
        },
        "id": "5cfe1d21",
        "outputId": "9a8458d4-465b-495b-fde0-990e1ced516d"
      },
      "outputs": [
        {
          "output_type": "stream",
          "name": "stdout",
          "text": [
            "(48000, 28, 28, 1)\n"
          ]
        }
      ],
      "source": [
        "X_train, X_val, y_train, y_val = train_test_split(X_train, y_train, test_size = 0.2)\n",
        "print(X_train.shape)"
      ]
    },
    {
      "cell_type": "code",
      "execution_count": 8,
      "id": "62817673",
      "metadata": {
        "id": "62817673"
      },
      "outputs": [],
      "source": [
        "class DeepTuner(kt.Tuner):\n",
        "    def run_trial(self, trial, X, y, validation_data, **fit_kwargs):\n",
        "        model = self.hypermodel.build(trial.hyperparameters)\n",
        "        model.fit(X, y, batch_size=trial.hyperparameters.Choice(\n",
        "            'batch_size', [16, 32]), **fit_kwargs)\n",
        "\n",
        "\n",
        "        X_val, y_val = validation_data\n",
        "        eval_scores = model.evaluate(X_val, y_val)\n",
        "        return {name: value for name, value in zip(\n",
        "            model.metrics_names,\n",
        "            eval_scores)}"
      ]
    },
    {
      "cell_type": "code",
      "execution_count": 9,
      "id": "e21311ab",
      "metadata": {
        "id": "e21311ab"
      },
      "outputs": [],
      "source": [
        "def build_model(hp):\n",
        "    model = tf.keras.Sequential()\n",
        "    model.add(tf.keras.Input(shape = X_train.shape[1:], name = 'inputs'))\n",
        "    for i in range(hp.Int('num_layers', min_value=1, max_value=10)):\n",
        "              model.add(tf.keras.layers.Conv2D(hp.Int(\n",
        "                  'units_{i}'.format(i=i), min_value=32, max_value=128, step=5), (3,3),activation='relu'))\n",
        "    model.add(tf.keras.layers.Flatten())\n",
        "    for i in range(hp.Int('n_connections', 1, 3)):\n",
        "        model.add(tf.keras.layers.Dense(hp.Choice(f'n_nodes',\n",
        "                                  values=[32,64,128, 256]), activation = 'relu'))\n",
        "    model.add(tf.keras.layers.Dense(10, activation='softmax', name = 'outputs'))\n",
        "    model.compile(optimizer = 'adam',loss='categorical_crossentropy',\n",
        "        metrics=['accuracy'])\n",
        "    return model\n"
      ]
    },
    {
      "cell_type": "code",
      "execution_count": 10,
      "id": "7d5ebe23",
      "metadata": {
        "colab": {
          "base_uri": "https://localhost:8080/"
        },
        "id": "7d5ebe23",
        "outputId": "b420cd0e-a5c0-4723-8d9b-ae7885363d78"
      },
      "outputs": [
        {
          "output_type": "stream",
          "name": "stdout",
          "text": [
            "Trial 10 Complete [00h 00m 45s]\n",
            "accuracy: 0.9818333387374878\n",
            "\n",
            "Best accuracy So Far: 0.9851666688919067\n",
            "Total elapsed time: 00h 10m 09s\n"
          ]
        }
      ],
      "source": [
        "my_keras_tuner = DeepTuner(\n",
        "    oracle=kt.oracles.BayesianOptimizationOracle(\n",
        "        objective=kt.Objective('accuracy', 'max'),\n",
        "        max_trials=10,\n",
        "        seed=42),\n",
        "    hypermodel=build_model,\n",
        "    overwrite=True,\n",
        "    project_name='my_keras_tuner')\n",
        "\n",
        "\n",
        "my_keras_tuner.search(\n",
        "    X_train, y_train, validation_data=(X_val, y_val), epochs=3)\n"
      ]
    },
    {
      "cell_type": "code",
      "execution_count": 11,
      "id": "b34a0e1e",
      "metadata": {
        "tags": [],
        "colab": {
          "base_uri": "https://localhost:8080/"
        },
        "id": "b34a0e1e",
        "outputId": "ad1bb543-beea-42d8-f3b2-37fe886a7767"
      },
      "outputs": [
        {
          "output_type": "stream",
          "name": "stdout",
          "text": [
            "Model: \"sequential_11\"\n",
            "_________________________________________________________________\n",
            " Layer (type)                Output Shape              Param #   \n",
            "=================================================================\n",
            " conv2d_65 (Conv2D)          (None, 26, 26, 102)       1020      \n",
            "                                                                 \n",
            " conv2d_66 (Conv2D)          (None, 24, 24, 42)        38598     \n",
            "                                                                 \n",
            " conv2d_67 (Conv2D)          (None, 22, 22, 67)        25393     \n",
            "                                                                 \n",
            " conv2d_68 (Conv2D)          (None, 20, 20, 37)        22348     \n",
            "                                                                 \n",
            " conv2d_69 (Conv2D)          (None, 18, 18, 52)        17368     \n",
            "                                                                 \n",
            " flatten_11 (Flatten)        (None, 16848)             0         \n",
            "                                                                 \n",
            " dense_16 (Dense)            (None, 256)               4313344   \n",
            "                                                                 \n",
            " outputs (Dense)             (None, 10)                2570      \n",
            "                                                                 \n",
            "=================================================================\n",
            "Total params: 4420641 (16.86 MB)\n",
            "Trainable params: 4420641 (16.86 MB)\n",
            "Non-trainable params: 0 (0.00 Byte)\n",
            "_________________________________________________________________\n"
          ]
        }
      ],
      "source": [
        "best_hps = my_keras_tuner.get_best_hyperparameters(num_trials=10)[0]\n",
        "model = build_model(best_hps)\n",
        "model.summary()"
      ]
    },
    {
      "cell_type": "code",
      "source": [
        "from google.colab import drive\n",
        "drive.mount('/content/drive')"
      ],
      "metadata": {
        "colab": {
          "base_uri": "https://localhost:8080/"
        },
        "id": "yt9UT6byHQKx",
        "outputId": "63e56f33-c3b5-4f26-fcc6-f2776c70c903"
      },
      "id": "yt9UT6byHQKx",
      "execution_count": 12,
      "outputs": [
        {
          "output_type": "stream",
          "name": "stdout",
          "text": [
            "Mounted at /content/drive\n"
          ]
        }
      ]
    },
    {
      "cell_type": "code",
      "source": [
        "path = '/content/drive/MyDrive/mlops/model'\n",
        "model.save(path)"
      ],
      "metadata": {
        "id": "VVlhwGOGAvbw"
      },
      "id": "VVlhwGOGAvbw",
      "execution_count": 13,
      "outputs": []
    },
    {
      "cell_type": "code",
      "execution_count": 14,
      "id": "22d4c323",
      "metadata": {
        "colab": {
          "base_uri": "https://localhost:8080/"
        },
        "id": "22d4c323",
        "outputId": "2249eaae-b1fc-49bf-d852-bf125a01dea8"
      },
      "outputs": [
        {
          "output_type": "stream",
          "name": "stdout",
          "text": [
            "{'serving_default': {'inputs': ['inputs'], 'outputs': ['outputs']}}\n"
          ]
        }
      ],
      "source": [
        "converter = tf.lite.TFLiteConverter.from_keras_model(model)\n",
        "tflite_model = converter.convert()\n",
        "\n",
        "interpreter = tf.lite.Interpreter(model_content=tflite_model)\n",
        "\n",
        "signatures = interpreter.get_signature_list()\n",
        "print(signatures)\n"
      ]
    },
    {
      "cell_type": "code",
      "source": [
        "classify_lite = interpreter.get_signature_runner('serving_default')\n",
        "classify_lite"
      ],
      "metadata": {
        "colab": {
          "base_uri": "https://localhost:8080/"
        },
        "id": "WI5wQqnJRGnT",
        "outputId": "9be983ed-5ccd-4871-bd39-a1831dd38ae1"
      },
      "id": "WI5wQqnJRGnT",
      "execution_count": 15,
      "outputs": [
        {
          "output_type": "execute_result",
          "data": {
            "text/plain": [
              "<tensorflow.lite.python.interpreter.SignatureRunner at 0x7e71d4eda6e0>"
            ]
          },
          "metadata": {},
          "execution_count": 15
        }
      ]
    },
    {
      "cell_type": "code",
      "source": [
        "with open('model.tflite', 'wb') as f:\n",
        "  f.write(tflite_model)"
      ],
      "metadata": {
        "id": "5xmtR41TuEns"
      },
      "id": "5xmtR41TuEns",
      "execution_count": 16,
      "outputs": []
    }
  ],
  "metadata": {
    "kernelspec": {
      "display_name": "Python 3",
      "name": "python3"
    },
    "language_info": {
      "codemirror_mode": {
        "name": "ipython",
        "version": 3
      },
      "file_extension": ".py",
      "mimetype": "text/x-python",
      "name": "python",
      "nbconvert_exporter": "python",
      "pygments_lexer": "ipython3",
      "version": "3.9.7"
    },
    "colab": {
      "provenance": [],
      "gpuType": "V100",
      "include_colab_link": true
    },
    "accelerator": "GPU"
  },
  "nbformat": 4,
  "nbformat_minor": 5
}